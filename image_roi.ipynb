{
 "cells": [
  {
   "cell_type": "markdown",
   "metadata": {},
   "source": [
    "# Image region of interest selection\n",
    "This code helps you select multiple region of interests (ROIs) and then automatically saves them as .npy files in the same directory.\n",
    "\n",
    "## Functions\n",
    "1. Reads all the .npy files available in the directory in the numerical order of file name.\n",
    "2. Opens .npy file in a loop and allows the user to select multiple ROIs.\n",
    "3. Coordinates of each ROI is saved in a .txt file in the same directory.\n",
    "4. Once ROIs are selected in all the images. .txt files are read by the code automatically.\n",
    "5. Then ROIs are cropped and saved in the same directory.\n",
    "\n",
    "## How to use\n",
    "1. Make sure all the necessary python libraries are installed.\n",
    "2. Copy the path to the image directory and past in directory_path.\n",
    "3. Run the cell and a new dialog box should appear with the image.\n",
    "4. Start selecting the ROIs in the images. You can select multiple ROIs by clicking and dragging the cursor. Take care not to randomly click on the image\n",
    "otherwise point corrdinates are recorded and unnecessary files are created. To extract point spectra refer to point_roi.ipynb file in the dataset.\n",
    "5. This code will run until all the images in the directory have been processed for ROI selection.\n",
    "6. Once this script has finished. You should see .txt files in the directory and corresponding .npy ROIs files.\n",
    "\n",
    "## Keyboard shortcuts\n",
    "1. r: If you want to reset the selected pROIs in an image press 'r' in your keyboard. The previous ROIs are deleted and now you can select new ROIs.\n",
    "2. c: Once you have marked all the ROIs in an image press 'c' to continue to the next image.\n",
    "3. ESC: stops the processing in between. "
   ]
  },
  {
   "cell_type": "markdown",
   "metadata": {},
   "source": [
    "# Import necessary libraries"
   ]
  },
  {
   "cell_type": "code",
   "execution_count": 1,
   "metadata": {},
   "outputs": [],
   "source": [
    "# importing the required libraries\n",
    "import glob\n",
    "import re\n",
    "import cv2\n",
    "import numpy as np\n",
    "import os\n",
    "import matplotlib.pyplot as plt\n",
    "from skimage.color import rgb2gray"
   ]
  },
  {
   "cell_type": "markdown",
   "metadata": {},
   "source": [
    "# Set the directory path here"
   ]
  },
  {
   "cell_type": "code",
   "execution_count": 2,
   "metadata": {},
   "outputs": [],
   "source": [
    "# Specify the directory path to the image folder\n",
    "directory_path = '/Users/billygrahamram/Documents/OpenSourceData/Weeds/waterhemp/'"
   ]
  },
  {
   "cell_type": "markdown",
   "metadata": {},
   "source": [
    "# ROI selection, cropping and saving happens here"
   ]
  },
  {
   "cell_type": "code",
   "execution_count": 3,
   "metadata": {},
   "outputs": [
    {
     "name": "stdout",
     "output_type": "stream",
     "text": [
      "['/Users/billygrahamram/Documents/OpenSourceData/Weeds/waterhemp/waterhemp_1.npy', '/Users/billygrahamram/Documents/OpenSourceData/Weeds/waterhemp/waterhemp_2.npy', '/Users/billygrahamram/Documents/OpenSourceData/Weeds/waterhemp/waterhemp_3.npy', '/Users/billygrahamram/Documents/OpenSourceData/Weeds/waterhemp/waterhemp_4.npy', '/Users/billygrahamram/Documents/OpenSourceData/Weeds/waterhemp/waterhemp_5.npy', '/Users/billygrahamram/Documents/OpenSourceData/Weeds/waterhemp/waterhemp_6.npy', '/Users/billygrahamram/Documents/OpenSourceData/Weeds/waterhemp/waterhemp_7.npy', '/Users/billygrahamram/Documents/OpenSourceData/Weeds/waterhemp/waterhemp_8.npy', '/Users/billygrahamram/Documents/OpenSourceData/Weeds/waterhemp/waterhemp_9.npy', '/Users/billygrahamram/Documents/OpenSourceData/Weeds/waterhemp/waterhemp_10.npy', '/Users/billygrahamram/Documents/OpenSourceData/Weeds/waterhemp/waterhemp_11.npy', '/Users/billygrahamram/Documents/OpenSourceData/Weeds/waterhemp/waterhemp_12.npy', '/Users/billygrahamram/Documents/OpenSourceData/Weeds/waterhemp/waterhemp_13.npy', '/Users/billygrahamram/Documents/OpenSourceData/Weeds/waterhemp/waterhemp_14.npy', '/Users/billygrahamram/Documents/OpenSourceData/Weeds/waterhemp/waterhemp_15.npy', '/Users/billygrahamram/Documents/OpenSourceData/Weeds/waterhemp/waterhemp_16.npy', '/Users/billygrahamram/Documents/OpenSourceData/Weeds/waterhemp/waterhemp_17.npy', '/Users/billygrahamram/Documents/OpenSourceData/Weeds/waterhemp/waterhemp_18.npy', '/Users/billygrahamram/Documents/OpenSourceData/Weeds/waterhemp/waterhemp_19.npy', '/Users/billygrahamram/Documents/OpenSourceData/Weeds/waterhemp/waterhemp_20.npy']\n"
     ]
    },
    {
     "name": "stderr",
     "output_type": "stream",
     "text": [
      "2024-02-27 20:21:15.139 Python[7055:372583] WARNING: Secure coding is automatically enabled for restorable state! However, not on all supported macOS versions of this application. Opt-in to secure coding explicitly by implementing NSApplicationDelegate.applicationSupportsSecureRestorableState:.\n"
     ]
    },
    {
     "name": "stdout",
     "output_type": "stream",
     "text": [
      "['/Users/billygrahamram/Documents/OpenSourceData/Weeds/waterhemp/waterhemp_1.txt', '/Users/billygrahamram/Documents/OpenSourceData/Weeds/waterhemp/waterhemp_2.txt', '/Users/billygrahamram/Documents/OpenSourceData/Weeds/waterhemp/waterhemp_3.txt', '/Users/billygrahamram/Documents/OpenSourceData/Weeds/waterhemp/waterhemp_4.txt', '/Users/billygrahamram/Documents/OpenSourceData/Weeds/waterhemp/waterhemp_5.txt', '/Users/billygrahamram/Documents/OpenSourceData/Weeds/waterhemp/waterhemp_6.txt']\n"
     ]
    }
   ],
   "source": [
    "# Create a list of .npy files in the directory\n",
    "npy_files = glob.glob(directory_path + '/*.npy')\n",
    "\n",
    "# Function to extract numbers from the file name\n",
    "def extract_number(f):\n",
    "    s = re.findall(\"\\d+\",f)\n",
    "    return (int(s[0]) if s else -1,f)\n",
    "\n",
    "# Sort the list of .npy files in numerical order\n",
    "npy_files = sorted(npy_files, key=extract_number)\n",
    "\n",
    "# Print the sorted list of .npy files\n",
    "print(npy_files)\n",
    "\n",
    "\n",
    "def click_and_crop(event, x, y, flags, param):\n",
    "    # grab references to the global variables\n",
    "    global rectangles, current_rectangle, cropping, image\n",
    "\n",
    "    # if the left mouse button was clicked, record the starting\n",
    "    # (x, y) coordinates and indicate that cropping is being\n",
    "    # performed\n",
    "    if event == cv2.EVENT_LBUTTONDOWN:\n",
    "        current_rectangle = [(x, y)]\n",
    "        cropping = True\n",
    "\n",
    "    # draw the rectangle while the mouse is moving and the left mouse button is down\n",
    "    elif event == cv2.EVENT_MOUSEMOVE and cropping:\n",
    "        image_temp = image.copy()\n",
    "        cv2.rectangle(image_temp, current_rectangle[0], (x, y), (0, 255, 0), 2)\n",
    "        cv2.imshow(\"image\", image_temp)\n",
    "        cv2.waitKey(1)  # Add a small delay to allow the window to refresh\n",
    "\n",
    "    # check to see if the left mouse button was released\n",
    "    elif event == cv2.EVENT_LBUTTONUP:\n",
    "        # record the ending (x, y) coordinates\n",
    "        current_rectangle.append((x, y))\n",
    "        cropping = False # cropping is finished\n",
    "\n",
    "        # draw a rectangle around the region of interest\n",
    "        cv2.rectangle(image, current_rectangle[0], current_rectangle[1], (0, 255, 0), 2)\n",
    "        cv2.imshow(\"image\", image)\n",
    "        rectangles.append(tuple(current_rectangle))\n",
    "\n",
    "exit_loop = False\n",
    "\n",
    "for file_path in npy_files:\n",
    "    \n",
    "    if exit_loop:\n",
    "        break\n",
    "    # load the image, clone it, and setup the mouse callback function\n",
    "    rectangles = []\n",
    "    current_rectangle = []\n",
    "    cropping = False\n",
    "\n",
    "    image = np.load(file_path)\n",
    "    image = rgb2gray(image[:,:,[50,80,150]])\n",
    "    image = ((image - image.min()) * (255 / (image.max() - image.min()))).astype(np.uint8)\n",
    "\n",
    "\n",
    "    # Convert color from BGR to RGB\n",
    "    image = cv2.cvtColor(image, cv2.COLOR_BGR2RGB)\n",
    "\n",
    "    clone = image.copy()\n",
    "    cv2.namedWindow(\"image\")\n",
    "    cv2.setMouseCallback(\"image\", click_and_crop)\n",
    "\n",
    "    # keep looping until the 'q' key is pressed\n",
    "    while True:\n",
    "        # display the image and wait for a keypress\n",
    "        cv2.imshow(\"image\", image)\n",
    "        key = cv2.waitKey(1) & 0xFF\n",
    "\n",
    "        # if the 'r' key is pressed, reset the cropping region\n",
    "        if key == ord(\"r\"):\n",
    "            image = clone.copy()\n",
    "            rectangles = []\n",
    "            current_rectangle = []\n",
    "            cropping = False\n",
    "\n",
    "        # if the 'c' key is pressed, break from the loop\n",
    "        elif key == ord(\"c\"):\n",
    "            break\n",
    "        \n",
    "                # press esc to stop the program\n",
    "        elif key == 27:\n",
    "            exit_loop = True\n",
    "            break\n",
    "\n",
    "    # close all open windows\n",
    "    cv2.destroyAllWindows()\n",
    "\n",
    "\n",
    "    # write rectangles to file\n",
    "    # use os.path to get the base name of the file and replace the extension with .txt\n",
    "    output_file_path = os.path.splitext(file_path)[0] + '.txt'\n",
    "    with open(output_file_path, 'w') as f:\n",
    "        for rectangle in rectangles:\n",
    "            f.write(str(rectangle) + '\\n')\n",
    "            \n",
    "            \n",
    "            \n",
    "# Create a list of .npy files in the directory\n",
    "txt_files = glob.glob(directory_path + '/*.txt')\n",
    "\n",
    "# Function to extract numbers from the file name\n",
    "def extract_number(f):\n",
    "    s = re.findall(\"\\d+\",f)\n",
    "    return (int(s[0]) if s else -1,f)\n",
    "\n",
    "# Sort the list of .npy files in numerical order\n",
    "txt_files = sorted(txt_files, key=extract_number)\n",
    "\n",
    "# Print the sorted list of .npy files\n",
    "print(txt_files)\n",
    "\n",
    "\n",
    "# For each .npy and .txt file pair\n",
    "for npy_file_name, txt_file_name in zip(npy_files, txt_files):\n",
    "    # Load the .npy file\n",
    "    npy_file = np.load(npy_file_name)\n",
    "\n",
    "    # Open the corresponding .txt file\n",
    "    with open(txt_file_name, 'r') as f:\n",
    "        lines = f.readlines()\n",
    "\n",
    "    # For each line in the .txt file\n",
    "    for i, line in enumerate(lines):\n",
    "        # Parse the coordinates\n",
    "        coords = eval(line.strip())\n",
    "        x1, y1 = coords[0]\n",
    "        x2, y2 = coords[1]\n",
    "\n",
    "        # Crop the ROI from the .npy file\n",
    "        roi = npy_file[y1:y2, x1:x2]\n",
    "\n",
    "        # Save the ROI as a separate .npy file\n",
    "        base_name = os.path.splitext(npy_file_name)[0]\n",
    "        np.save(f'{base_name}_{i+1}.npy', roi)"
   ]
  },
  {
   "cell_type": "markdown",
   "metadata": {},
   "source": [
    "# ROI validation\n",
    "Once the above script has completed you can check the individual ROI by running the following code. You will need to save replace the roi file path in the below code."
   ]
  },
  {
   "cell_type": "code",
   "execution_count": null,
   "metadata": {},
   "outputs": [],
   "source": [
    "roi_directory = '/Crops/sugarbeet/sugarbeet_20_4.npy'\n",
    "file = np.load(roi_directory)\n",
    "file = file[:,:,[80]]\n",
    "plt.imshow(file, cmap='gray')\n",
    "plt.show()"
   ]
  }
 ],
 "metadata": {
  "kernelspec": {
   "display_name": ".venv",
   "language": "python",
   "name": "python3"
  },
  "language_info": {
   "codemirror_mode": {
    "name": "ipython",
    "version": 3
   },
   "file_extension": ".py",
   "mimetype": "text/x-python",
   "name": "python",
   "nbconvert_exporter": "python",
   "pygments_lexer": "ipython3",
   "version": "3.9.6"
  }
 },
 "nbformat": 4,
 "nbformat_minor": 2
}
